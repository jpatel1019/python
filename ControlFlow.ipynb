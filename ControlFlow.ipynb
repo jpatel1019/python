{
 "cells": [
  {
   "cell_type": "code",
   "execution_count": 1,
   "id": "d8e44c15-31f8-4a1d-aac8-fd70935f2b65",
   "metadata": {},
   "outputs": [
    {
     "name": "stdout",
     "output_type": "stream",
     "text": [
      "You are eligible to vote.\n"
     ]
    }
   ],
   "source": [
    "# 1. Conditionals (if, elif, else)\n",
    "#example 1\n",
    "age = 18\n",
    "\n",
    "if age >= 18:\n",
    "    print(\"You are eligible to vote.\")\n",
    "else:\n",
    "    print(\"You are not eligible to vote.\")"
   ]
  },
  {
   "cell_type": "code",
   "execution_count": 31,
   "id": "7a6a005b-ad6f-41a0-94be-739aaaba93eb",
   "metadata": {},
   "outputs": [
    {
     "name": "stdout",
     "output_type": "stream",
     "text": [
      "First Class\n"
     ]
    }
   ],
   "source": [
    "#Example 2:\n",
    "marks = 70\n",
    "\n",
    "if marks < 35:\n",
    "    print(\"Fail\")\n",
    "elif marks == 35:\n",
    "    print(\"Just Passed\")\n",
    "elif marks < 60:\n",
    "    print(\"Second Class\")\n",
    "elif marks < 100:\n",
    "    print(\"First Class\")\n",
    "else:\n",
    "    print(\"Perfect Score!\")"
   ]
  },
  {
   "cell_type": "code",
   "execution_count": 14,
   "id": "cf3bb256-7fbf-4bfc-9208-a7e60d85f321",
   "metadata": {},
   "outputs": [
    {
     "name": "stdout",
     "output_type": "stream",
     "text": [
      "I like apple\n",
      "I like banana\n",
      "I like cherry\n",
      "4\n",
      "5\n",
      "6\n",
      "7\n"
     ]
    }
   ],
   "source": [
    "#2. Loops (for, while)\n",
    "Examlpe:1\n",
    "fruits = [\"apple\", \"banana\", \"cherry\"]\n",
    "\n",
    "for fruit in fruits:\n",
    "    print(\"I like\", fruit)"
   ]
  },
  {
   "cell_type": "code",
   "execution_count": 27,
   "id": "1767f6d6-f89b-4a1b-bc9e-d24eaca05939",
   "metadata": {},
   "outputs": [
    {
     "name": "stdout",
     "output_type": "stream",
     "text": [
      "even numbers:\n",
      "2\n",
      "4\n",
      "6\n",
      "8\n",
      "10\n"
     ]
    }
   ],
   "source": [
    "#Example 2\n",
    "print(\"even numbers:\")\n",
    "for num in range(2, 12, 2):  #starting at 1 and ending at 11 and jump 2\n",
    "    print(num)"
   ]
  },
  {
   "cell_type": "code",
   "execution_count": 18,
   "id": "e9b823f4-80e0-4a58-840a-f4628a4d423b",
   "metadata": {},
   "outputs": [
    {
     "name": "stdout",
     "output_type": "stream",
     "text": [
      "Count is 2\n",
      "Count is 3\n"
     ]
    }
   ],
   "source": [
    "#while Loop\n",
    "#Example:1\n",
    "count = 1\n",
    "\n",
    "while count <= 3:\n",
    "    print(\"Count is\", count)\n",
    "    count += 1"
   ]
  },
  {
   "cell_type": "code",
   "execution_count": 28,
   "id": "b8b1c53d-9d89-4475-b228-b785f03da161",
   "metadata": {},
   "outputs": [
    {
     "name": "stdout",
     "output_type": "stream",
     "text": [
      "10\n",
      "20\n",
      "30\n"
     ]
    }
   ],
   "source": [
    "#Iterable Example \n",
    "#Note:- When you use a for loop, Python automatically gets an iterator from the iterable and loops through it using next()\n",
    "numbers = [10, 20, 30]\n",
    "\n",
    "iterator = iter(numbers)\n",
    "\n",
    "print(next(iterator)) \n",
    "print(next(iterator)) \n",
    "print(next(iterator)) "
   ]
  },
  {
   "cell_type": "code",
   "execution_count": null,
   "id": "7e428b2c-34bd-4e26-abe5-d6439927e377",
   "metadata": {},
   "outputs": [],
   "source": []
  }
 ],
 "metadata": {
  "kernelspec": {
   "display_name": "Python 3 (ipykernel)",
   "language": "python",
   "name": "python3"
  },
  "language_info": {
   "codemirror_mode": {
    "name": "ipython",
    "version": 3
   },
   "file_extension": ".py",
   "mimetype": "text/x-python",
   "name": "python",
   "nbconvert_exporter": "python",
   "pygments_lexer": "ipython3",
   "version": "3.12.9"
  }
 },
 "nbformat": 4,
 "nbformat_minor": 5
}
