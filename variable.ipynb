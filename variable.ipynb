{
 "cells": [
  {
   "cell_type": "code",
   "execution_count": 1,
   "id": "573173e9-4744-4abd-ba1a-50c87895a82e",
   "metadata": {},
   "outputs": [
    {
     "name": "stdout",
     "output_type": "stream",
     "text": [
      "Name: Alice\n",
      "Age: 25\n",
      "Height: 5.6\n"
     ]
    }
   ],
   "source": [
    "#Programm1\n",
    "\n",
    "name = \"Alice\"\n",
    "age = 25\n",
    "height = 5.6\n",
    "\n",
    "print(\"Name:\", name)\n",
    "print(\"Age:\", age)\n",
    "print(\"Height:\", height)"
   ]
  },
  {
   "cell_type": "code",
   "execution_count": 2,
   "id": "88135ae3-7100-495d-847d-32b0d828f2a9",
   "metadata": {},
   "outputs": [
    {
     "name": "stdout",
     "output_type": "stream",
     "text": [
      "Sum: 15\n",
      "Difference: 5\n",
      "Product: 50\n",
      "Quotient: 2.0\n"
     ]
    }
   ],
   "source": [
    "a = 10\n",
    "b = 5\n",
    "\n",
    "sum_ = a + b\n",
    "diff = a - b\n",
    "prod = a * b\n",
    "quot = a / b\n",
    "\n",
    "print(\"Sum:\", sum_)\n",
    "print(\"Difference:\", diff)\n",
    "print(\"Product:\", prod)\n",
    "print(\"Quotient:\", quot)"
   ]
  },
  {
   "cell_type": "code",
   "execution_count": null,
   "id": "ebcb11c2-aa15-4d16-8384-a04b5956491f",
   "metadata": {},
   "outputs": [],
   "source": []
  }
 ],
 "metadata": {
  "kernelspec": {
   "display_name": "Python 3 (ipykernel)",
   "language": "python",
   "name": "python3"
  },
  "language_info": {
   "codemirror_mode": {
    "name": "ipython",
    "version": 3
   },
   "file_extension": ".py",
   "mimetype": "text/x-python",
   "name": "python",
   "nbconvert_exporter": "python",
   "pygments_lexer": "ipython3",
   "version": "3.12.9"
  }
 },
 "nbformat": 4,
 "nbformat_minor": 5
}
