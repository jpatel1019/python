{
 "cells": [
  {
   "cell_type": "code",
   "execution_count": 20,
   "id": "a8c0033f-cd05-46de-ab4a-355f9cea08fe",
   "metadata": {},
   "outputs": [
    {
     "name": "stdout",
     "output_type": "stream",
     "text": [
      "a: 10\n",
      "b: -5\n",
      "c: 0\n",
      "d: 123456789\n",
      "e: 12\n"
     ]
    }
   ],
   "source": [
    "# Numeric Datatypes\n",
    "# Integer\n",
    "\n",
    "a = 10\n",
    "b = -5\n",
    "c = 0\n",
    "d = 123456789\n",
    "e = 5 + 7\n",
    "f\n",
    "print(\"a:\",a)\n",
    "print(\"b:\", b)\n",
    "print(\"c:\", c)\n",
    "print(\"d:\", d)\n",
    "print(\"e:\", e)"
   ]
  },
  {
   "cell_type": "code",
   "execution_count": 23,
   "id": "10474c0a-9d01-4484-b0fd-6df5652c622e",
   "metadata": {},
   "outputs": [
    {
     "name": "stdout",
     "output_type": "stream",
     "text": [
      "price: 99.99\n",
      "pi: 3.14159\n",
      "negative: -7.5\n",
      "zero: 0.0\n",
      "calculation: 2.5\n",
      "modulo: 1\n",
      "power: 8\n"
     ]
    }
   ],
   "source": [
    "# Float\n",
    "price = 99.99\n",
    "pi = 3.14159\n",
    "negative = -7.5\n",
    "zero = 0.0\n",
    "calculation = 10 / 4\n",
    "modulo = 7 % 3\n",
    "power = 2**3\n",
    "print(\"price:\",price)\n",
    "print(\"pi:\",pi)\n",
    "print(\"negative:\",negative)\n",
    "print(\"zero:\",zero)\n",
    "print(\"calculation:\",calculation)\n",
    "print(\"modulo:\", modulo)\n",
    "print(\"power:\", power)"
   ]
  },
  {
   "cell_type": "code",
   "execution_count": 39,
   "id": "37d000c7-a686-424b-b8bf-562765980a79",
   "metadata": {},
   "outputs": [
    {
     "name": "stdout",
     "output_type": "stream",
     "text": [
      "name: Alice\n",
      "greet: Hello\n",
      "quote: Life is beautiful!\n",
      "empty \n",
      "multiline: This\n",
      "is\n",
      "a multiline string\n",
      "Length of name: 5\n"
     ]
    }
   ],
   "source": [
    "#3. str\n",
    "name = \"Alice\"\n",
    "greet = 'Hello'\n",
    "quote = \"Life is beautiful!\"\n",
    "empty = \"\"\n",
    "multiline = \"\"\"This\n",
    "is\n",
    "a multiline string\"\"\"\n",
    "print(\"name:\", name)\n",
    "print(\"greet:\", greet)\n",
    "print(\"quote:\",quote)\n",
    "print(\"empty\", empty)\n",
    "print(\"multiline:\", multiline)\n",
    "print(\"Length of name:\", len(name))"
   ]
  },
  {
   "cell_type": "code",
   "execution_count": 11,
   "id": "8cd5332c-ab01-4a09-ab53-a96117797cdd",
   "metadata": {},
   "outputs": [
    {
     "name": "stdout",
     "output_type": "stream",
     "text": [
      "Alice\n",
      "Length of name: 5\n"
     ]
    }
   ],
   "source": [
    "#2. Text DataType\n",
    "name = \"Alice\"  # str\n",
    "print(name)\n",
    "print(\"Length of name:\", len(name))"
   ]
  },
  {
   "cell_type": "code",
   "execution_count": 28,
   "id": "b2d6c211-9405-4d5f-9c88-de88cb5866d0",
   "metadata": {},
   "outputs": [
    {
     "name": "stdout",
     "output_type": "stream",
     "text": [
      "a == b : False\n",
      "a != b : True\n",
      "a < b  : True\n",
      "a >= b: False\n"
     ]
    }
   ],
   "source": [
    "#3.Boolean DataType\n",
    "#Example 1: Basic Comparison\n",
    "a = 5\n",
    "b = 10\n",
    "\n",
    "print(\"a == b :\", a == b)     # False\n",
    "print(\"a != b :\", a != b)     # True\n",
    "print(\"a < b  :\", a < b)      # True\n",
    "print(\"a >= b:\", a >= b)      # False"
   ]
  },
  {
   "cell_type": "code",
   "execution_count": 40,
   "id": "0d6ee510-fb4d-44f3-89c4-3d8ed765f63c",
   "metadata": {},
   "outputs": [
    {
     "name": "stdout",
     "output_type": "stream",
     "text": [
      "true\n"
     ]
    }
   ],
   "source": [
    "# Example 2: Chained Comparison\n",
    "x = 3\n",
    "\n",
    "# Chained comparison: checks if 1 < x < 5\n",
    "if 1 < x < 5:\n",
    "    print(\"true\")"
   ]
  },
  {
   "cell_type": "code",
   "execution_count": 36,
   "id": "576c0292-e12a-4950-97fd-044981ae4044",
   "metadata": {},
   "outputs": [
    {
     "name": "stdout",
     "output_type": "stream",
     "text": [
      "list1 == list3: True\n",
      "list1 is list3: False\n",
      "list1 is list2: True\n"
     ]
    }
   ],
   "source": [
    "#Example 3: is vs ==\n",
    "\n",
    "list1 = [1, 2, 3]\n",
    "list2 = list1\n",
    "list3 = [1, 2, 3]\n",
    "\n",
    "print(\"list1 == list3:\",list1 == list3)\n",
    "print(\"list1 is list3:\",list1 is list3)\n",
    "print(\"list1 is list2:\",list1 is list2) "
   ]
  }
 ],
 "metadata": {
  "kernelspec": {
   "display_name": "Python 3 (ipykernel)",
   "language": "python",
   "name": "python3"
  },
  "language_info": {
   "codemirror_mode": {
    "name": "ipython",
    "version": 3
   },
   "file_extension": ".py",
   "mimetype": "text/x-python",
   "name": "python",
   "nbconvert_exporter": "python",
   "pygments_lexer": "ipython3",
   "version": "3.12.9"
  }
 },
 "nbformat": 4,
 "nbformat_minor": 5
}
